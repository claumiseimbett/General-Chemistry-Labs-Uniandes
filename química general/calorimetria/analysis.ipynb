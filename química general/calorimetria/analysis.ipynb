{
 "cells": [
  {
   "attachments": {},
   "cell_type": "markdown",
   "id": "f962748f",
   "metadata": {},
   "source": [
    "# Modules"
   ]
  },
  {
   "cell_type": "code",
   "execution_count": 1,
   "id": "fc3868c5",
   "metadata": {},
   "outputs": [],
   "source": [
    "import pandas as pd  "
   ]
  },
  {
   "attachments": {},
   "cell_type": "markdown",
   "id": "795a3ef3",
   "metadata": {},
   "source": [
    "# Data"
   ]
  },
  {
   "cell_type": "code",
   "execution_count": 2,
   "id": "6a20b5a4",
   "metadata": {},
   "outputs": [],
   "source": [
    "calorimeter = pd.read_csv(\"calorimeter.txt\")\n",
    "neutralization = pd.read_csv(\"neutralization-reaction.txt\")\n",
    "solution = pd.read_csv(\"solution.txt\")\n",
    "m_water_cold = 20 #g\n",
    "m_water_hot = 10 #g\n",
    "c_water = 4.18/1000 # kJ/gC\n",
    "m_NaOH = 20 #g\n",
    "m_HCl = 20 #g\n",
    "mols_U = 1 / 60\n",
    "mols_HCl = 20 * (10**-3)\n",
    "m_water_solution = 40 #g"
   ]
  },
  {
   "cell_type": "code",
   "execution_count": 3,
   "id": "c1eab7dd",
   "metadata": {},
   "outputs": [
    {
     "data": {
      "text/html": [
       "<div>\n",
       "<style scoped>\n",
       "    .dataframe tbody tr th:only-of-type {\n",
       "        vertical-align: middle;\n",
       "    }\n",
       "\n",
       "    .dataframe tbody tr th {\n",
       "        vertical-align: top;\n",
       "    }\n",
       "\n",
       "    .dataframe thead th {\n",
       "        text-align: right;\n",
       "    }\n",
       "</style>\n",
       "<table border=\"1\" class=\"dataframe\">\n",
       "  <thead>\n",
       "    <tr style=\"text-align: right;\">\n",
       "      <th></th>\n",
       "      <th>Tc(C)</th>\n",
       "      <th>Th(C)</th>\n",
       "      <th>deltaT(C)</th>\n",
       "    </tr>\n",
       "  </thead>\n",
       "  <tbody>\n",
       "    <tr>\n",
       "      <th>0</th>\n",
       "      <td>16.1</td>\n",
       "      <td>45.5</td>\n",
       "      <td>7.4</td>\n",
       "    </tr>\n",
       "    <tr>\n",
       "      <th>1</th>\n",
       "      <td>18.5</td>\n",
       "      <td>50.0</td>\n",
       "      <td>7.7</td>\n",
       "    </tr>\n",
       "  </tbody>\n",
       "</table>\n",
       "</div>"
      ],
      "text/plain": [
       "   Tc(C)  Th(C)  deltaT(C)\n",
       "0   16.1   45.5        7.4\n",
       "1   18.5   50.0        7.7"
      ]
     },
     "execution_count": 3,
     "metadata": {},
     "output_type": "execute_result"
    }
   ],
   "source": [
    "calorimeter"
   ]
  },
  {
   "cell_type": "code",
   "execution_count": 4,
   "id": "f9d7e566",
   "metadata": {},
   "outputs": [
    {
     "data": {
      "text/html": [
       "<div>\n",
       "<style scoped>\n",
       "    .dataframe tbody tr th:only-of-type {\n",
       "        vertical-align: middle;\n",
       "    }\n",
       "\n",
       "    .dataframe tbody tr th {\n",
       "        vertical-align: top;\n",
       "    }\n",
       "\n",
       "    .dataframe thead th {\n",
       "        text-align: right;\n",
       "    }\n",
       "</style>\n",
       "<table border=\"1\" class=\"dataframe\">\n",
       "  <thead>\n",
       "    <tr style=\"text-align: right;\">\n",
       "      <th></th>\n",
       "      <th>Ti(C)</th>\n",
       "      <th>Tf(C)</th>\n",
       "      <th>deltaT(C)</th>\n",
       "    </tr>\n",
       "  </thead>\n",
       "  <tbody>\n",
       "    <tr>\n",
       "      <th>0</th>\n",
       "      <td>17.2</td>\n",
       "      <td>22.8</td>\n",
       "      <td>5.9</td>\n",
       "    </tr>\n",
       "    <tr>\n",
       "      <th>1</th>\n",
       "      <td>16.9</td>\n",
       "      <td>23.1</td>\n",
       "      <td>6.2</td>\n",
       "    </tr>\n",
       "  </tbody>\n",
       "</table>\n",
       "</div>"
      ],
      "text/plain": [
       "   Ti(C)  Tf(C)  deltaT(C)\n",
       "0   17.2   22.8        5.9\n",
       "1   16.9   23.1        6.2"
      ]
     },
     "execution_count": 4,
     "metadata": {},
     "output_type": "execute_result"
    }
   ],
   "source": [
    "neutralization"
   ]
  },
  {
   "cell_type": "code",
   "execution_count": 5,
   "id": "a6dcdd12",
   "metadata": {},
   "outputs": [
    {
     "data": {
      "text/html": [
       "<div>\n",
       "<style scoped>\n",
       "    .dataframe tbody tr th:only-of-type {\n",
       "        vertical-align: middle;\n",
       "    }\n",
       "\n",
       "    .dataframe tbody tr th {\n",
       "        vertical-align: top;\n",
       "    }\n",
       "\n",
       "    .dataframe thead th {\n",
       "        text-align: right;\n",
       "    }\n",
       "</style>\n",
       "<table border=\"1\" class=\"dataframe\">\n",
       "  <thead>\n",
       "    <tr style=\"text-align: right;\">\n",
       "      <th></th>\n",
       "      <th>Ti(C)</th>\n",
       "      <th>Tf(C)</th>\n",
       "      <th>deltaT(C)</th>\n",
       "    </tr>\n",
       "  </thead>\n",
       "  <tbody>\n",
       "    <tr>\n",
       "      <th>0</th>\n",
       "      <td>17.2</td>\n",
       "      <td>16.5</td>\n",
       "      <td>-0.7</td>\n",
       "    </tr>\n",
       "    <tr>\n",
       "      <th>1</th>\n",
       "      <td>17.5</td>\n",
       "      <td>17.0</td>\n",
       "      <td>-0.5</td>\n",
       "    </tr>\n",
       "  </tbody>\n",
       "</table>\n",
       "</div>"
      ],
      "text/plain": [
       "   Ti(C)  Tf(C)  deltaT(C)\n",
       "0   17.2   16.5       -0.7\n",
       "1   17.5   17.0       -0.5"
      ]
     },
     "execution_count": 5,
     "metadata": {},
     "output_type": "execute_result"
    }
   ],
   "source": [
    "solution"
   ]
  },
  {
   "attachments": {},
   "cell_type": "markdown",
   "id": "c1576c5f",
   "metadata": {},
   "source": [
    "# Calorimeter\n",
    "\n",
    "The heat capacity of the water is $4.182 \\frac{J}{g \\cdot °C}$\n",
    "\n",
    "$C_{calorimeter} = -\\frac{c_{water}}{\\Delta T_{water \\ cold}}( m_{water \\ hot}\\Delta T_{water \\ hot} +   m_{water cold}\\Delta T_{water \\ cold}      )$"
   ]
  },
  {
   "cell_type": "code",
   "execution_count": 6,
   "id": "eed1c6ee",
   "metadata": {},
   "outputs": [
    {
     "data": {
      "text/plain": [
       "'C calorimeter = 0.04 +- 0.003 KJ/°C'"
      ]
     },
     "execution_count": 6,
     "metadata": {},
     "output_type": "execute_result"
    }
   ],
   "source": [
    "delta_water_cold = calorimeter[\"deltaT(C)\"]\n",
    "delta_water_hot = calorimeter[\"Tc(C)\"] + delta_water_cold - calorimeter[\"Th(C)\"]\n",
    "\n",
    "c_calorimeter =-(  c_water / delta_water_cold     )*( m_water_hot*delta_water_hot + m_water_cold*delta_water_cold  )\n",
    "mean_c_calorimeter = c_calorimeter.mean().round(2)  #kJ\n",
    "std_c_calorimeter = round( c_calorimeter.std(),3 )  #kJ\n",
    "\n",
    "\"C calorimeter = \"+str(mean_c_calorimeter)+\" +- \"+str(std_c_calorimeter)+\" KJ/°C\""
   ]
  },
  {
   "attachments": {},
   "cell_type": "markdown",
   "id": "454eb04d",
   "metadata": {},
   "source": [
    "# Heat of reaction of neutralization\n",
    "\n",
    "$NaOH + HCl \\rightarrow H_2O + NaCl$\n",
    "\n",
    "$E = -\\Delta T ( c_{calorimeter} + m_{solution}c_{water} )$\n",
    "\n",
    "In standard conditions ( 1 bar of pressure and 298K ) the enthalpy of neutralization is $60 kJ/molHCl$,however, in the laboratory these conditions are not met, since Bogota has a pressure lower than atmospheric pressure and a temperature lower than 298K."
   ]
  },
  {
   "cell_type": "code",
   "execution_count": 7,
   "id": "5366ec86",
   "metadata": {},
   "outputs": [
    {
     "data": {
      "text/plain": [
       "'enthalpy reaction -1.3 +- 0.07 kJ,   enthalpy reaction per mol HCl -65.0 +- 3.5000000000000004 kJ/mol HCl '"
      ]
     },
     "execution_count": 7,
     "metadata": {},
     "output_type": "execute_result"
    }
   ],
   "source": [
    "enthalpy = -neutralization[\"deltaT(C)\"] * (c_calorimeter + (m_HCl+m_NaOH)* c_water)\n",
    "mean_enthalpy = round( enthalpy.mean() , 1 )\n",
    "std_enthalpy =  round( enthalpy.std() ,2 )\n",
    "\n",
    "mol_enthalpy = mean_enthalpy / mols_HCl\n",
    "std_mol_enthalpy = std_enthalpy / mols_HCl\n",
    "\n",
    "\"enthalpy reaction \" + str(mean_enthalpy) + \" +- \" + str(std_enthalpy) + \" kJ,   \" +  \"enthalpy reaction per mol HCl \" + str(mol_enthalpy) + \" +- \" + str(std_mol_enthalpy) + \" kJ/mol HCl \"\n"
   ]
  },
  {
   "attachments": {},
   "cell_type": "markdown",
   "id": "9002a596",
   "metadata": {},
   "source": [
    "# Enthalpy of solution of $CON_2H_4$"
   ]
  },
  {
   "cell_type": "code",
   "execution_count": 8,
   "id": "4504e02a",
   "metadata": {},
   "outputs": [
    {
     "data": {
      "text/plain": [
       "'enthalpy solution 0.13 +- 0.03 kJ,   enthalpy solution per mol of Urea 8 +- 2 kJ/mol Urea '"
      ]
     },
     "execution_count": 8,
     "metadata": {},
     "output_type": "execute_result"
    }
   ],
   "source": [
    "enthalpy = -solution[\"deltaT(C)\"] * (c_calorimeter + m_water_solution * c_water)\n",
    "mean_enthalpy = round( enthalpy.mean(),2)\n",
    "std_enthalpy =  round( enthalpy.std() ,2)\n",
    "\n",
    "mol_enthalpy = round( mean_enthalpy / mols_U)\n",
    "std_mol_enthalpy = round(std_enthalpy / mols_U)\n",
    "\n",
    "\"enthalpy solution \" + str(mean_enthalpy) + \" +- \" + str(std_enthalpy) + \" kJ,   \" +  \"enthalpy solution per mol of Urea \" + str(mol_enthalpy) + \" +- \" + str(std_mol_enthalpy) + \" kJ/mol Urea \"\n"
   ]
  }
 ],
 "metadata": {
  "kernelspec": {
   "display_name": "Python 3",
   "language": "python",
   "name": "python3"
  },
  "language_info": {
   "codemirror_mode": {
    "name": "ipython",
    "version": 3
   },
   "file_extension": ".py",
   "mimetype": "text/x-python",
   "name": "python",
   "nbconvert_exporter": "python",
   "pygments_lexer": "ipython3",
   "version": "3.11.4"
  }
 },
 "nbformat": 4,
 "nbformat_minor": 5
}

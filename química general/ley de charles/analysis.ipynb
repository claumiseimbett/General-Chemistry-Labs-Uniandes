{
 "cells": [
  {
   "attachments": {},
   "cell_type": "markdown",
   "id": "10e06408",
   "metadata": {},
   "source": [
    "# Modules"
   ]
  },
  {
   "cell_type": "code",
   "execution_count": 2,
   "id": "5c9dbfed",
   "metadata": {},
   "outputs": [],
   "source": [
    "import pandas as pd\n",
    "from sympy import *"
   ]
  },
  {
   "attachments": {},
   "cell_type": "markdown",
   "id": "2674882c",
   "metadata": {},
   "source": [
    "# Data"
   ]
  },
  {
   "cell_type": "code",
   "execution_count": 3,
   "id": "d0accc84",
   "metadata": {},
   "outputs": [
    {
     "data": {
      "text/html": [
       "<div>\n",
       "<style scoped>\n",
       "    .dataframe tbody tr th:only-of-type {\n",
       "        vertical-align: middle;\n",
       "    }\n",
       "\n",
       "    .dataframe tbody tr th {\n",
       "        vertical-align: top;\n",
       "    }\n",
       "\n",
       "    .dataframe thead th {\n",
       "        text-align: right;\n",
       "    }\n",
       "</style>\n",
       "<table border=\"1\" class=\"dataframe\">\n",
       "  <thead>\n",
       "    <tr style=\"text-align: right;\">\n",
       "      <th></th>\n",
       "      <th>Th(K)</th>\n",
       "      <th>Patm (mmHg)</th>\n",
       "      <th>Ta(K)</th>\n",
       "      <th>Vh(mL)</th>\n",
       "      <th>Vc(mL)</th>\n",
       "    </tr>\n",
       "  </thead>\n",
       "  <tbody>\n",
       "    <tr>\n",
       "      <th>practice-1</th>\n",
       "      <td>361</td>\n",
       "      <td>563</td>\n",
       "      <td>287</td>\n",
       "      <td>310</td>\n",
       "      <td>69</td>\n",
       "    </tr>\n",
       "    <tr>\n",
       "      <th>practice-2</th>\n",
       "      <td>364</td>\n",
       "      <td>563</td>\n",
       "      <td>288</td>\n",
       "      <td>310</td>\n",
       "      <td>76</td>\n",
       "    </tr>\n",
       "  </tbody>\n",
       "</table>\n",
       "</div>"
      ],
      "text/plain": [
       "            Th(K)  Patm (mmHg)  Ta(K)  Vh(mL)  Vc(mL)\n",
       "practice-1    361          563    287     310      69\n",
       "practice-2    364          563    288     310      76"
      ]
     },
     "execution_count": 3,
     "metadata": {},
     "output_type": "execute_result"
    }
   ],
   "source": [
    "data = pd.read_csv(\"data.txt\")\n",
    "data=data.round()\n",
    "data.index = [\"practice-1\", \"practice-2\"]\n",
    "data"
   ]
  },
  {
   "cell_type": "code",
   "execution_count": 4,
   "id": "80a0d1b1",
   "metadata": {},
   "outputs": [
    {
     "data": {
      "text/html": [
       "<div>\n",
       "<style scoped>\n",
       "    .dataframe tbody tr th:only-of-type {\n",
       "        vertical-align: middle;\n",
       "    }\n",
       "\n",
       "    .dataframe tbody tr th {\n",
       "        vertical-align: top;\n",
       "    }\n",
       "\n",
       "    .dataframe thead th {\n",
       "        text-align: right;\n",
       "    }\n",
       "</style>\n",
       "<table border=\"1\" class=\"dataframe\">\n",
       "  <thead>\n",
       "    <tr style=\"text-align: right;\">\n",
       "      <th></th>\n",
       "      <th>mean-values</th>\n",
       "    </tr>\n",
       "  </thead>\n",
       "  <tbody>\n",
       "    <tr>\n",
       "      <th>Th(K)</th>\n",
       "      <td>362.5</td>\n",
       "    </tr>\n",
       "    <tr>\n",
       "      <th>Patm (mmHg)</th>\n",
       "      <td>563.0</td>\n",
       "    </tr>\n",
       "    <tr>\n",
       "      <th>Ta(K)</th>\n",
       "      <td>287.5</td>\n",
       "    </tr>\n",
       "    <tr>\n",
       "      <th>Vh(mL)</th>\n",
       "      <td>310.0</td>\n",
       "    </tr>\n",
       "    <tr>\n",
       "      <th>Vc(mL)</th>\n",
       "      <td>72.5</td>\n",
       "    </tr>\n",
       "  </tbody>\n",
       "</table>\n",
       "</div>"
      ],
      "text/plain": [
       "             mean-values\n",
       "Th(K)              362.5\n",
       "Patm (mmHg)        563.0\n",
       "Ta(K)              287.5\n",
       "Vh(mL)             310.0\n",
       "Vc(mL)              72.5"
      ]
     },
     "execution_count": 4,
     "metadata": {},
     "output_type": "execute_result"
    }
   ],
   "source": [
    "data_mean = data.mean().round(3)\n",
    "data_mean = pd.DataFrame(\n",
    "    {\"mean-values\": data_mean}\n",
    ")\n",
    "data_mean=data_mean.round(1)\n",
    "data_mean"
   ]
  },
  {
   "attachments": {},
   "cell_type": "markdown",
   "id": "b2a1e5a3",
   "metadata": {},
   "source": [
    "# $V_a=V_h - V_c$"
   ]
  },
  {
   "cell_type": "code",
   "execution_count": 5,
   "id": "fc362d2e",
   "metadata": {},
   "outputs": [
    {
     "data": {
      "text/plain": [
       "'Va = 237.5 mL'"
      ]
     },
     "execution_count": 5,
     "metadata": {},
     "output_type": "execute_result"
    }
   ],
   "source": [
    "Va_mean=data_mean.at[\"Vh(mL)\",\"mean-values\"] - data_mean.at[\"Vc(mL)\",\"mean-values\"]\n",
    "\"Va = \"+str( Va_mean.round(1) ) + \" mL\""
   ]
  },
  {
   "attachments": {},
   "cell_type": "markdown",
   "id": "3e57962e",
   "metadata": {},
   "source": [
    "# $m_1 = \\frac{V_h-V_a}{T_h-T_a}$"
   ]
  },
  {
   "cell_type": "code",
   "execution_count": 8,
   "id": "47d89057",
   "metadata": {},
   "outputs": [
    {
     "data": {
      "text/plain": [
       "'m1 = 1.0 mL/K'"
      ]
     },
     "execution_count": 8,
     "metadata": {},
     "output_type": "execute_result"
    }
   ],
   "source": [
    "m_1_mean = ( data_mean.at[ \"Vh(mL)\",\"mean-values\"   ] - Va_mean ) /(    data_mean.at[ \"Th(K)\",\"mean-values\"   ]   -   data_mean.at[ \"Ta(K)\",\"mean-values\"   ]   )\n",
    "\n",
    "\"m1 = \" +str( m_1_mean.round(1) ) + \" mL/K\""
   ]
  },
  {
   "attachments": {},
   "cell_type": "markdown",
   "id": "b8030afe",
   "metadata": {},
   "source": [
    "# $m_2 = \\frac{V_h}{T_h}$"
   ]
  },
  {
   "cell_type": "code",
   "execution_count": 9,
   "id": "6c780ed5",
   "metadata": {},
   "outputs": [
    {
     "data": {
      "text/plain": [
       "'m2 = 0.9 mL/K'"
      ]
     },
     "execution_count": 9,
     "metadata": {},
     "output_type": "execute_result"
    }
   ],
   "source": [
    "m_2_mean = data_mean.at[ \"Vh(mL)\",\"mean-values\"   ] /  data_mean.at[ \"Th(K)\",\"mean-values\"   ]\n",
    "\n",
    "\"m2 = \"+str( m_2_mean.round(1) ) + \" mL/K\""
   ]
  }
 ],
 "metadata": {
  "kernelspec": {
   "display_name": "Python 3",
   "language": "python",
   "name": "python3"
  },
  "language_info": {
   "codemirror_mode": {
    "name": "ipython",
    "version": 3
   },
   "file_extension": ".py",
   "mimetype": "text/x-python",
   "name": "python",
   "nbconvert_exporter": "python",
   "pygments_lexer": "ipython3",
   "version": "3.11.2"
  }
 },
 "nbformat": 4,
 "nbformat_minor": 5
}

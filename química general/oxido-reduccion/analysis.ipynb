{
 "cells": [
  {
   "attachments": {},
   "cell_type": "markdown",
   "id": "adde0242",
   "metadata": {},
   "source": [
    "# Modules"
   ]
  },
  {
   "cell_type": "code",
   "execution_count": 23,
   "id": "bb40ab52",
   "metadata": {},
   "outputs": [],
   "source": [
    "import pandas as pd"
   ]
  },
  {
   "attachments": {},
   "cell_type": "markdown",
   "id": "84de2960",
   "metadata": {},
   "source": [
    "# Data"
   ]
  },
  {
   "cell_type": "code",
   "execution_count": 24,
   "id": "068a045c",
   "metadata": {},
   "outputs": [],
   "source": [
    "KMNO4 = pd.read_csv(\"KMNO4.txt\")\n",
    "sodium_oxalate = pd.read_csv(\"sodium-oxalate.txt\")"
   ]
  },
  {
   "cell_type": "code",
   "execution_count": 25,
   "id": "65fc711f",
   "metadata": {},
   "outputs": [
    {
     "data": {
      "text/html": [
       "<div>\n",
       "<style scoped>\n",
       "    .dataframe tbody tr th:only-of-type {\n",
       "        vertical-align: middle;\n",
       "    }\n",
       "\n",
       "    .dataframe tbody tr th {\n",
       "        vertical-align: top;\n",
       "    }\n",
       "\n",
       "    .dataframe thead th {\n",
       "        text-align: right;\n",
       "    }\n",
       "</style>\n",
       "<table border=\"1\" class=\"dataframe\">\n",
       "  <thead>\n",
       "    <tr style=\"text-align: right;\">\n",
       "      <th></th>\n",
       "      <th>Na2C2O4(g)</th>\n",
       "      <th>KMNO4-0.1M(mL)</th>\n",
       "    </tr>\n",
       "  </thead>\n",
       "  <tbody>\n",
       "    <tr>\n",
       "      <th>0</th>\n",
       "      <td>0.34</td>\n",
       "      <td>10.1</td>\n",
       "    </tr>\n",
       "    <tr>\n",
       "      <th>1</th>\n",
       "      <td>0.33</td>\n",
       "      <td>9.8</td>\n",
       "    </tr>\n",
       "  </tbody>\n",
       "</table>\n",
       "</div>"
      ],
      "text/plain": [
       "   Na2C2O4(g)  KMNO4-0.1M(mL)\n",
       "0        0.34            10.1\n",
       "1        0.33             9.8"
      ]
     },
     "execution_count": 25,
     "metadata": {},
     "output_type": "execute_result"
    }
   ],
   "source": [
    "KMNO4"
   ]
  },
  {
   "cell_type": "code",
   "execution_count": 26,
   "id": "8752d360",
   "metadata": {},
   "outputs": [
    {
     "data": {
      "text/html": [
       "<div>\n",
       "<style scoped>\n",
       "    .dataframe tbody tr th:only-of-type {\n",
       "        vertical-align: middle;\n",
       "    }\n",
       "\n",
       "    .dataframe tbody tr th {\n",
       "        vertical-align: top;\n",
       "    }\n",
       "\n",
       "    .dataframe thead th {\n",
       "        text-align: right;\n",
       "    }\n",
       "</style>\n",
       "<table border=\"1\" class=\"dataframe\">\n",
       "  <thead>\n",
       "    <tr style=\"text-align: right;\">\n",
       "      <th></th>\n",
       "      <th>m(g)</th>\n",
       "      <th>KMNO4(mL)</th>\n",
       "    </tr>\n",
       "  </thead>\n",
       "  <tbody>\n",
       "    <tr>\n",
       "      <th>0</th>\n",
       "      <td>0.34</td>\n",
       "      <td>6.3</td>\n",
       "    </tr>\n",
       "    <tr>\n",
       "      <th>1</th>\n",
       "      <td>0.33</td>\n",
       "      <td>6.3</td>\n",
       "    </tr>\n",
       "  </tbody>\n",
       "</table>\n",
       "</div>"
      ],
      "text/plain": [
       "   m(g)  KMNO4(mL)\n",
       "0  0.34        6.3\n",
       "1  0.33        6.3"
      ]
     },
     "execution_count": 26,
     "metadata": {},
     "output_type": "execute_result"
    }
   ],
   "source": [
    "sodium_oxalate"
   ]
  },
  {
   "attachments": {},
   "cell_type": "markdown",
   "id": "f18af201",
   "metadata": {},
   "source": [
    "# Theory reaction of equation in acid medium\n",
    "$KMnO_4$ with $Na_2C_2O_4$ in a\n",
    "\n",
    "$2MnO_4^- + 16H^+ + 5C_2O_4^{2-} \\leftrightarrow (10CO_2)_g + 2Mn^{2+} + 8H_2O$\n"
   ]
  },
  {
   "cell_type": "code",
   "execution_count": 27,
   "id": "aab3096f",
   "metadata": {},
   "outputs": [
    {
     "data": {
      "text/plain": [
       "'We need aproximate 0.335g of sodium oxalate'"
      ]
     },
     "execution_count": 27,
     "metadata": {},
     "output_type": "execute_result"
    }
   ],
   "source": [
    "mols_potassium_permanganate = 0.1 * (10e-3)\n",
    "mols_sodium_oxalate = mols_potassium_permanganate * (5/2)\n",
    "mass_sodium_oxalate = mols_sodium_oxalate*134\n",
    "\n",
    "\"We need aproximate \"+str(mass_sodium_oxalate) + \"g of sodium oxalate\""
   ]
  },
  {
   "attachments": {},
   "cell_type": "markdown",
   "id": "2ff4cc86",
   "metadata": {},
   "source": [
    "# Concetration of $MnO_4$"
   ]
  },
  {
   "cell_type": "code",
   "execution_count": 28,
   "id": "9a7268a3",
   "metadata": {},
   "outputs": [
    {
     "data": {
      "text/plain": [
       "'The solution of potassium permangan has a concentration of ( 0.1 +- 2e-05 )M and a normality of (0.02 +- 4e-06) N'"
      ]
     },
     "execution_count": 28,
     "metadata": {},
     "output_type": "execute_result"
    }
   ],
   "source": [
    "mols_potassium_permanganate = (KMNO4[\"Na2C2O4(g)\"] / 134) * (2/5)\n",
    "M_potassium_permanganate = mols_potassium_permanganate / ( (KMNO4[\"KMNO4-0.1M(mL)\"] )*1e-3 )\n",
    "N_potassium_permanganate = M_potassium_permanganate /5\n",
    "\n",
    "mean_M_potassium_permanganate = round( M_potassium_permanganate.mean() , 2)\n",
    "mean_N_potassium_permanganate = round( N_potassium_permanganate.mean(), 3 )\n",
    "std_M_potassium_permanganate = round( M_potassium_permanganate.std() , 5)\n",
    "std_N_potassium_permanganate = round( N_potassium_permanganate.std(), 6 )\n",
    "\n",
    "\n",
    "\n",
    "\"The solution of potassium permangan has a concentration of ( \"+str( mean_M_potassium_permanganate )+\" +- \"+str(std_M_potassium_permanganate) + \" )M and a normality of (\"+str( mean_N_potassium_permanganate ) +\" +- \" + str(std_N_potassium_permanganate) + \") N\""
   ]
  },
  {
   "attachments": {},
   "cell_type": "markdown",
   "id": "c93f52df",
   "metadata": {},
   "source": [
    "# Purity sample of sodium oxalate"
   ]
  },
  {
   "cell_type": "code",
   "execution_count": 29,
   "id": "64016878",
   "metadata": {},
   "outputs": [
    {
     "data": {
      "text/plain": [
       "'The sample has a concetration of (63 +- 1)%'"
      ]
     },
     "execution_count": 29,
     "metadata": {},
     "output_type": "execute_result"
    }
   ],
   "source": [
    "mols_potassium_permanganate = sodium_oxalate[\"KMNO4(mL)\"]*1e-3*mean_M_potassium_permanganate\n",
    "mols_sodium_oxalate = mols_potassium_permanganate*(5/2)\n",
    "mass_sodium_oxalate = mols_sodium_oxalate*134\n",
    "concetration = ( mass_sodium_oxalate/sodium_oxalate[\"m(g)\"] )* 100\n",
    "mean_concetration = round( concetration.mean()  )\n",
    "std_concetration = round( concetration.std() )\n",
    "\n",
    "\"The sample has a concetration of (\"+str(mean_concetration)+\" +- \"+str(std_concetration) + \")%\""
   ]
  }
 ],
 "metadata": {
  "kernelspec": {
   "display_name": "Python 3",
   "language": "python",
   "name": "python3"
  },
  "language_info": {
   "codemirror_mode": {
    "name": "ipython",
    "version": 3
   },
   "file_extension": ".py",
   "mimetype": "text/x-python",
   "name": "python",
   "nbconvert_exporter": "python",
   "pygments_lexer": "ipython3",
   "version": "3.11.2"
  }
 },
 "nbformat": 4,
 "nbformat_minor": 5
}

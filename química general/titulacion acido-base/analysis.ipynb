{
 "cells": [
  {
   "attachments": {},
   "cell_type": "markdown",
   "id": "fe56aa42",
   "metadata": {},
   "source": [
    "# Modules"
   ]
  },
  {
   "cell_type": "code",
   "execution_count": 1,
   "id": "bc141028",
   "metadata": {},
   "outputs": [],
   "source": [
    "import pandas as pd"
   ]
  },
  {
   "attachments": {},
   "cell_type": "markdown",
   "id": "f63559ed",
   "metadata": {},
   "source": [
    "# Data"
   ]
  },
  {
   "cell_type": "code",
   "execution_count": 2,
   "id": "c9eeb060",
   "metadata": {},
   "outputs": [],
   "source": [
    "titulationNaOH = pd.read_csv(\"NaOH.txt\")\n",
    "titulationHCl = pd.read_csv(\"HCl.txt\")"
   ]
  },
  {
   "cell_type": "code",
   "execution_count": 3,
   "id": "8bd86fa7",
   "metadata": {},
   "outputs": [
    {
     "data": {
      "text/html": [
       "<div>\n",
       "<style scoped>\n",
       "    .dataframe tbody tr th:only-of-type {\n",
       "        vertical-align: middle;\n",
       "    }\n",
       "\n",
       "    .dataframe tbody tr th {\n",
       "        vertical-align: top;\n",
       "    }\n",
       "\n",
       "    .dataframe thead th {\n",
       "        text-align: right;\n",
       "    }\n",
       "</style>\n",
       "<table border=\"1\" class=\"dataframe\">\n",
       "  <thead>\n",
       "    <tr style=\"text-align: right;\">\n",
       "      <th></th>\n",
       "      <th>potassium-acid-phthalate(g)</th>\n",
       "      <th>NaOH(L)</th>\n",
       "    </tr>\n",
       "  </thead>\n",
       "  <tbody>\n",
       "    <tr>\n",
       "      <th>0</th>\n",
       "      <td>0.31</td>\n",
       "      <td>0.0157</td>\n",
       "    </tr>\n",
       "    <tr>\n",
       "      <th>1</th>\n",
       "      <td>0.30</td>\n",
       "      <td>0.0156</td>\n",
       "    </tr>\n",
       "    <tr>\n",
       "      <th>2</th>\n",
       "      <td>0.30</td>\n",
       "      <td>0.0154</td>\n",
       "    </tr>\n",
       "    <tr>\n",
       "      <th>3</th>\n",
       "      <td>0.33</td>\n",
       "      <td>0.0159</td>\n",
       "    </tr>\n",
       "    <tr>\n",
       "      <th>4</th>\n",
       "      <td>0.29</td>\n",
       "      <td>0.0149</td>\n",
       "    </tr>\n",
       "    <tr>\n",
       "      <th>5</th>\n",
       "      <td>0.30</td>\n",
       "      <td>0.0149</td>\n",
       "    </tr>\n",
       "    <tr>\n",
       "      <th>6</th>\n",
       "      <td>0.31</td>\n",
       "      <td>0.0152</td>\n",
       "    </tr>\n",
       "    <tr>\n",
       "      <th>7</th>\n",
       "      <td>0.31</td>\n",
       "      <td>0.0153</td>\n",
       "    </tr>\n",
       "    <tr>\n",
       "      <th>8</th>\n",
       "      <td>0.30</td>\n",
       "      <td>0.0150</td>\n",
       "    </tr>\n",
       "    <tr>\n",
       "      <th>9</th>\n",
       "      <td>0.32</td>\n",
       "      <td>0.0155</td>\n",
       "    </tr>\n",
       "  </tbody>\n",
       "</table>\n",
       "</div>"
      ],
      "text/plain": [
       "   potassium-acid-phthalate(g)  NaOH(L)\n",
       "0                         0.31   0.0157\n",
       "1                         0.30   0.0156\n",
       "2                         0.30   0.0154\n",
       "3                         0.33   0.0159\n",
       "4                         0.29   0.0149\n",
       "5                         0.30   0.0149\n",
       "6                         0.31   0.0152\n",
       "7                         0.31   0.0153\n",
       "8                         0.30   0.0150\n",
       "9                         0.32   0.0155"
      ]
     },
     "execution_count": 3,
     "metadata": {},
     "output_type": "execute_result"
    }
   ],
   "source": [
    "titulationNaOH"
   ]
  },
  {
   "cell_type": "code",
   "execution_count": 4,
   "id": "e7f73374",
   "metadata": {},
   "outputs": [
    {
     "data": {
      "text/html": [
       "<div>\n",
       "<style scoped>\n",
       "    .dataframe tbody tr th:only-of-type {\n",
       "        vertical-align: middle;\n",
       "    }\n",
       "\n",
       "    .dataframe tbody tr th {\n",
       "        vertical-align: top;\n",
       "    }\n",
       "\n",
       "    .dataframe thead th {\n",
       "        text-align: right;\n",
       "    }\n",
       "</style>\n",
       "<table border=\"1\" class=\"dataframe\">\n",
       "  <thead>\n",
       "    <tr style=\"text-align: right;\">\n",
       "      <th></th>\n",
       "      <th>HCl(L)</th>\n",
       "      <th>NaOH(L)</th>\n",
       "    </tr>\n",
       "  </thead>\n",
       "  <tbody>\n",
       "    <tr>\n",
       "      <th>0</th>\n",
       "      <td>0.01</td>\n",
       "      <td>0.0107</td>\n",
       "    </tr>\n",
       "    <tr>\n",
       "      <th>1</th>\n",
       "      <td>0.01</td>\n",
       "      <td>0.0106</td>\n",
       "    </tr>\n",
       "    <tr>\n",
       "      <th>2</th>\n",
       "      <td>0.01</td>\n",
       "      <td>0.0106</td>\n",
       "    </tr>\n",
       "    <tr>\n",
       "      <th>3</th>\n",
       "      <td>0.01</td>\n",
       "      <td>0.0109</td>\n",
       "    </tr>\n",
       "    <tr>\n",
       "      <th>4</th>\n",
       "      <td>0.01</td>\n",
       "      <td>0.0107</td>\n",
       "    </tr>\n",
       "    <tr>\n",
       "      <th>5</th>\n",
       "      <td>0.01</td>\n",
       "      <td>0.0107</td>\n",
       "    </tr>\n",
       "    <tr>\n",
       "      <th>6</th>\n",
       "      <td>0.01</td>\n",
       "      <td>0.0108</td>\n",
       "    </tr>\n",
       "    <tr>\n",
       "      <th>7</th>\n",
       "      <td>0.01</td>\n",
       "      <td>0.0106</td>\n",
       "    </tr>\n",
       "    <tr>\n",
       "      <th>8</th>\n",
       "      <td>0.01</td>\n",
       "      <td>0.0105</td>\n",
       "    </tr>\n",
       "    <tr>\n",
       "      <th>9</th>\n",
       "      <td>0.01</td>\n",
       "      <td>0.0108</td>\n",
       "    </tr>\n",
       "  </tbody>\n",
       "</table>\n",
       "</div>"
      ],
      "text/plain": [
       "   HCl(L)  NaOH(L)\n",
       "0    0.01   0.0107\n",
       "1    0.01   0.0106\n",
       "2    0.01   0.0106\n",
       "3    0.01   0.0109\n",
       "4    0.01   0.0107\n",
       "5    0.01   0.0107\n",
       "6    0.01   0.0108\n",
       "7    0.01   0.0106\n",
       "8    0.01   0.0105\n",
       "9    0.01   0.0108"
      ]
     },
     "execution_count": 4,
     "metadata": {},
     "output_type": "execute_result"
    }
   ],
   "source": [
    "titulationHCl"
   ]
  },
  {
   "attachments": {},
   "cell_type": "markdown",
   "id": "d67b4d56",
   "metadata": {},
   "source": [
    "# Titulation $NaOH$"
   ]
  },
  {
   "attachments": {},
   "cell_type": "markdown",
   "id": "a73b5280",
   "metadata": {},
   "source": [
    "## Quantity($g$) of potassium acid phthalate\n",
    "\n",
    "$15 \\cdot 10^{-3} L \\cdot \\frac{1 mol}{L} \\cdot 1 \\cdot 204 g/mol = 3.06g$"
   ]
  },
  {
   "cell_type": "code",
   "execution_count": 5,
   "id": "d39f5f26",
   "metadata": {},
   "outputs": [
    {
     "data": {
      "text/plain": [
       "'NaOH mols = (0.0015+-0.0001) mols,     Concetration NaOH = (0.0981+-0.003) M '"
      ]
     },
     "execution_count": 5,
     "metadata": {},
     "output_type": "execute_result"
    }
   ],
   "source": [
    "NaOH_mols = ( titulationNaOH[\"potassium-acid-phthalate(g)\"] / 204 )\n",
    "NaOH_M = ( titulationNaOH[\"potassium-acid-phthalate(g)\"] / 204 ) / ( titulationNaOH[\"NaOH(L)\"]  )\n",
    "mean_NaOH_M = NaOH_M.mean().round(4)\n",
    "\n",
    "\"NaOH mols = (\" + str( NaOH_mols.mean().round(4) ) +\"+-\" + str(   round(NaOH_mols.std(),4)    )+\") mols,     Concetration NaOH = (\" + str( mean_NaOH_M ) +\"+-\" +str(     round( NaOH_M.std(),3  )              ) +\") M \""
   ]
  },
  {
   "attachments": {},
   "cell_type": "markdown",
   "id": "dc9fd19d",
   "metadata": {},
   "source": [
    "# Titulation $HCl$"
   ]
  },
  {
   "cell_type": "code",
   "execution_count": 6,
   "id": "4748507b",
   "metadata": {},
   "outputs": [
    {
     "data": {
      "text/plain": [
       "'Concetration HCl = (0.105+-0.003) M '"
      ]
     },
     "execution_count": 6,
     "metadata": {},
     "output_type": "execute_result"
    }
   ],
   "source": [
    "HCl_M = (titulationHCl[\"NaOH(L)\"] * mean_NaOH_M )/ ( titulationHCl[\"HCl(L)\"] )\n",
    "\n",
    "\"Concetration HCl = (\" + str( HCl_M.mean().round(3) ) +\"+-\" +str(     round( NaOH_M.std(),3  )              ) +\") M \""
   ]
  }
 ],
 "metadata": {
  "kernelspec": {
   "display_name": "Python 3",
   "language": "python",
   "name": "python3"
  },
  "language_info": {
   "codemirror_mode": {
    "name": "ipython",
    "version": 3
   },
   "file_extension": ".py",
   "mimetype": "text/x-python",
   "name": "python",
   "nbconvert_exporter": "python",
   "pygments_lexer": "ipython3",
   "version": "3.11.2"
  }
 },
 "nbformat": 4,
 "nbformat_minor": 5
}

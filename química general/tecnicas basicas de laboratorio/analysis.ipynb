{
 "cells": [
  {
   "attachments": {},
   "cell_type": "markdown",
   "metadata": {},
   "source": [
    "# Modules"
   ]
  },
  {
   "cell_type": "code",
   "execution_count": 255,
   "metadata": {},
   "outputs": [],
   "source": [
    "import pandas as pd\n",
    "import matplotlib.pyplot as plt\n",
    "import numpy as np"
   ]
  },
  {
   "attachments": {},
   "cell_type": "markdown",
   "metadata": {},
   "source": [
    "# Data"
   ]
  },
  {
   "cell_type": "code",
   "execution_count": 256,
   "metadata": {},
   "outputs": [],
   "source": [
    "burette = pd.read_csv( \"burette.txt\" )\n",
    "pycnometer = pd.read_csv( \"pycnometer.txt\" )\n",
    "volumetric_pipette = pd.read_csv( \"volumetric-pipette.txt\")\n",
    "\n",
    "#volumetric pipette and pycnometer\n",
    "\n",
    "m = 10.4 #g\n",
    "\n",
    "#info\n",
    "rho = 0.9986 #g/mnol\n",
    "T = 18.1 #°C"
   ]
  },
  {
   "cell_type": "code",
   "execution_count": 257,
   "metadata": {},
   "outputs": [
    {
     "data": {
      "text/html": [
       "<div>\n",
       "<style scoped>\n",
       "    .dataframe tbody tr th:only-of-type {\n",
       "        vertical-align: middle;\n",
       "    }\n",
       "\n",
       "    .dataframe tbody tr th {\n",
       "        vertical-align: top;\n",
       "    }\n",
       "\n",
       "    .dataframe thead th {\n",
       "        text-align: right;\n",
       "    }\n",
       "</style>\n",
       "<table border=\"1\" class=\"dataframe\">\n",
       "  <thead>\n",
       "    <tr style=\"text-align: right;\">\n",
       "      <th></th>\n",
       "      <th>V(mL)</th>\n",
       "      <th>m(g)</th>\n",
       "    </tr>\n",
       "  </thead>\n",
       "  <tbody>\n",
       "    <tr>\n",
       "      <th>0</th>\n",
       "      <td>5.0</td>\n",
       "      <td>5.02</td>\n",
       "    </tr>\n",
       "    <tr>\n",
       "      <th>1</th>\n",
       "      <td>10.0</td>\n",
       "      <td>9.96</td>\n",
       "    </tr>\n",
       "    <tr>\n",
       "      <th>2</th>\n",
       "      <td>15.0</td>\n",
       "      <td>14.92</td>\n",
       "    </tr>\n",
       "    <tr>\n",
       "      <th>3</th>\n",
       "      <td>20.0</td>\n",
       "      <td>19.95</td>\n",
       "    </tr>\n",
       "    <tr>\n",
       "      <th>4</th>\n",
       "      <td>25.0</td>\n",
       "      <td>24.94</td>\n",
       "    </tr>\n",
       "  </tbody>\n",
       "</table>\n",
       "</div>"
      ],
      "text/plain": [
       "   V(mL)   m(g)\n",
       "0    5.0   5.02\n",
       "1   10.0   9.96\n",
       "2   15.0  14.92\n",
       "3   20.0  19.95\n",
       "4   25.0  24.94"
      ]
     },
     "execution_count": 257,
     "metadata": {},
     "output_type": "execute_result"
    }
   ],
   "source": [
    "burette"
   ]
  },
  {
   "cell_type": "code",
   "execution_count": 258,
   "metadata": {},
   "outputs": [
    {
     "data": {
      "text/html": [
       "<div>\n",
       "<style scoped>\n",
       "    .dataframe tbody tr th:only-of-type {\n",
       "        vertical-align: middle;\n",
       "    }\n",
       "\n",
       "    .dataframe tbody tr th {\n",
       "        vertical-align: top;\n",
       "    }\n",
       "\n",
       "    .dataframe thead th {\n",
       "        text-align: right;\n",
       "    }\n",
       "</style>\n",
       "<table border=\"1\" class=\"dataframe\">\n",
       "  <thead>\n",
       "    <tr style=\"text-align: right;\">\n",
       "      <th></th>\n",
       "      <th>m-pycnometer(g)</th>\n",
       "      <th>m-pycnometer-water(g)</th>\n",
       "      <th>m-pycnometer-NaCl(g)</th>\n",
       "    </tr>\n",
       "  </thead>\n",
       "  <tbody>\n",
       "    <tr>\n",
       "      <th>0</th>\n",
       "      <td>7.56</td>\n",
       "      <td>12.89</td>\n",
       "      <td>13.36</td>\n",
       "    </tr>\n",
       "    <tr>\n",
       "      <th>1</th>\n",
       "      <td>7.48</td>\n",
       "      <td>12.90</td>\n",
       "      <td>13.32</td>\n",
       "    </tr>\n",
       "    <tr>\n",
       "      <th>2</th>\n",
       "      <td>7.61</td>\n",
       "      <td>12.84</td>\n",
       "      <td>13.39</td>\n",
       "    </tr>\n",
       "    <tr>\n",
       "      <th>3</th>\n",
       "      <td>7.55</td>\n",
       "      <td>12.82</td>\n",
       "      <td>13.37</td>\n",
       "    </tr>\n",
       "    <tr>\n",
       "      <th>4</th>\n",
       "      <td>7.59</td>\n",
       "      <td>12.86</td>\n",
       "      <td>13.31</td>\n",
       "    </tr>\n",
       "  </tbody>\n",
       "</table>\n",
       "</div>"
      ],
      "text/plain": [
       "   m-pycnometer(g)  m-pycnometer-water(g)  m-pycnometer-NaCl(g)\n",
       "0             7.56                  12.89                 13.36\n",
       "1             7.48                  12.90                 13.32\n",
       "2             7.61                  12.84                 13.39\n",
       "3             7.55                  12.82                 13.37\n",
       "4             7.59                  12.86                 13.31"
      ]
     },
     "execution_count": 258,
     "metadata": {},
     "output_type": "execute_result"
    }
   ],
   "source": [
    "pycnometer"
   ]
  },
  {
   "cell_type": "code",
   "execution_count": 259,
   "metadata": {},
   "outputs": [
    {
     "data": {
      "text/html": [
       "<div>\n",
       "<style scoped>\n",
       "    .dataframe tbody tr th:only-of-type {\n",
       "        vertical-align: middle;\n",
       "    }\n",
       "\n",
       "    .dataframe tbody tr th {\n",
       "        vertical-align: top;\n",
       "    }\n",
       "\n",
       "    .dataframe thead th {\n",
       "        text-align: right;\n",
       "    }\n",
       "</style>\n",
       "<table border=\"1\" class=\"dataframe\">\n",
       "  <thead>\n",
       "    <tr style=\"text-align: right;\">\n",
       "      <th></th>\n",
       "      <th>m_water(g)</th>\n",
       "    </tr>\n",
       "  </thead>\n",
       "  <tbody>\n",
       "    <tr>\n",
       "      <th>0</th>\n",
       "      <td>10.04</td>\n",
       "    </tr>\n",
       "    <tr>\n",
       "      <th>1</th>\n",
       "      <td>10.07</td>\n",
       "    </tr>\n",
       "    <tr>\n",
       "      <th>2</th>\n",
       "      <td>10.06</td>\n",
       "    </tr>\n",
       "    <tr>\n",
       "      <th>3</th>\n",
       "      <td>10.05</td>\n",
       "    </tr>\n",
       "    <tr>\n",
       "      <th>4</th>\n",
       "      <td>10.02</td>\n",
       "    </tr>\n",
       "  </tbody>\n",
       "</table>\n",
       "</div>"
      ],
      "text/plain": [
       "   m_water(g)\n",
       "0       10.04\n",
       "1       10.07\n",
       "2       10.06\n",
       "3       10.05\n",
       "4       10.02"
      ]
     },
     "execution_count": 259,
     "metadata": {},
     "output_type": "execute_result"
    }
   ],
   "source": [
    "volumetric_pipette"
   ]
  },
  {
   "attachments": {},
   "cell_type": "markdown",
   "metadata": {},
   "source": [
    "# Burette"
   ]
  },
  {
   "cell_type": "code",
   "execution_count": 260,
   "metadata": {},
   "outputs": [
    {
     "data": {
      "image/png": "[encoded data removed]",
      "text/plain": [
       "<Figure size 640x480 with 1 Axes>"
      ]
     },
     "metadata": {},
     "output_type": "display_data"
    }
   ],
   "source": [
    "real_V = burette[\"V(mL)\"]/rho\n",
    "fig,ax = plt.subplots()\n",
    "ax.scatter(   real_V , burette[\"V(mL)\"] , label=\"data\")\n",
    "ax.set_xlabel(\"real volume\" )\n",
    "ax.set_ylabel(\"read volume\" )\n",
    "\n",
    "coeff , cov = np.polyfit(  real_V, burette[\"V(mL)\"] , 1 , cov= True)\n",
    "fit = np.poly1d(coeff)\n",
    "\n",
    "ax.plot( real_V, fit(real_V), label=\"fit\",color=\"red\")\n",
    "\n",
    "plt.legend()\n",
    "plt.show()"
   ]
  },
  {
   "cell_type": "code",
   "execution_count": 261,
   "metadata": {},
   "outputs": [
    {
     "data": {
      "text/plain": [
       "'El ajuste es Vread = (0.999 +- 4e-16)mL^-1 Vreal (b is approximately 0)'"
      ]
     },
     "execution_count": 261,
     "metadata": {},
     "output_type": "execute_result"
    }
   ],
   "source": [
    "m = round(  coeff[0] , 3 )\n",
    "deltam = round( coeff[1] , 16 )\n",
    "\"El ajuste es Vread = (\"+str(m)+\" +- \"+ str(deltam) +\")mL^-1 Vreal (b is approximately 0)\"\n"
   ]
  },
  {
   "attachments": {},
   "cell_type": "markdown",
   "metadata": {},
   "source": [
    "# Volumetric pipette"
   ]
  },
  {
   "cell_type": "code",
   "execution_count": 262,
   "metadata": {},
   "outputs": [
    {
     "data": {
      "text/plain": [
       "'The volume of the volumetric pipette is (10.06 +- 0.02 )mL'"
      ]
     },
     "execution_count": 262,
     "metadata": {},
     "output_type": "execute_result"
    }
   ],
   "source": [
    "v_water = volumetric_pipette[\"m_water(g)\"]/rho\n",
    "mean_v_water = v_water.mean().round(2)\n",
    "std_v_water = round( v_water.std() , 2 )\n",
    "\"The volume of the volumetric pipette is (\"+ str( mean_v_water )+\" +- \"+str(std_v_water )+\" )mL\""
   ]
  },
  {
   "cell_type": "code",
   "execution_count": 266,
   "metadata": {},
   "outputs": [
    {
     "data": {
      "text/plain": [
       "'The percentage error of the pipette volume (theoretical volume of 10mL) is 0.6%'"
      ]
     },
     "execution_count": 266,
     "metadata": {},
     "output_type": "execute_result"
    }
   ],
   "source": [
    "error = round( abs( (mean_v_water - 10)/10  )*100 , 1)\n",
    "\"The percentage error of the pipette volume (theoretical volume of 10mL) is \"+str(error)+\"%\""
   ]
  },
  {
   "attachments": {},
   "cell_type": "markdown",
   "metadata": {},
   "source": [
    "# Pycnometer"
   ]
  },
  {
   "cell_type": "code",
   "execution_count": 264,
   "metadata": {},
   "outputs": [
    {
     "data": {
      "text/plain": [
       "'The volume of the pycnometer is (5.31 +- 0.07) mL'"
      ]
     },
     "execution_count": 264,
     "metadata": {},
     "output_type": "execute_result"
    }
   ],
   "source": [
    "v_pycnometer = round( ( pycnometer[\"m-pycnometer-water(g)\"] - pycnometer[\"m-pycnometer(g)\"] ).mean() / rho , 2 )\n",
    "std_v_pycnometer = round( ( pycnometer[\"m-pycnometer-water(g)\"] - pycnometer[\"m-pycnometer(g)\"] ).std() / rho , 2 )\n",
    "\n",
    "\"The volume of the pycnometer is (\"+ str(v_pycnometer) +\" +- \"+str(std_v_pycnometer)+ \") mL\"\n"
   ]
  },
  {
   "attachments": {},
   "cell_type": "markdown",
   "metadata": {},
   "source": [
    "# Density of solution of $NaCl$"
   ]
  },
  {
   "cell_type": "code",
   "execution_count": 265,
   "metadata": {},
   "outputs": [
    {
     "data": {
      "text/plain": [
       "'The density of the solution of NaCl is (2.51+-0.01) g/mL'"
      ]
     },
     "execution_count": 265,
     "metadata": {},
     "output_type": "execute_result"
    }
   ],
   "source": [
    "rho_NaCl = round( pycnometer[\"m-pycnometer-NaCl(g)\"].mean() / v_pycnometer , 2)\n",
    "std_rho_NaCl = round(  pycnometer[\"m-pycnometer-NaCl(g)\"].std() / v_pycnometer , 2  )\n",
    "\"The density of the solution of NaCl is (\"+ str(rho_NaCl) +\"+-\"+str(std_rho_NaCl)+ \") g/mL\"\n"
   ]
  }
 ],
 "metadata": {
  "kernelspec": {
   "display_name": "Python 3",
   "language": "python",
   "name": "python3"
  },
  "language_info": {
   "codemirror_mode": {
    "name": "ipython",
    "version": 3
   },
   "file_extension": ".py",
   "mimetype": "text/x-python",
   "name": "python",
   "nbconvert_exporter": "python",
   "pygments_lexer": "ipython3",
   "version": "3.11.2"
  },
  "orig_nbformat": 4
 },
 "nbformat": 4,
 "nbformat_minor": 2
}

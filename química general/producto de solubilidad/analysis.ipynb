{
 "cells": [
  {
   "attachments": {},
   "cell_type": "markdown",
   "id": "e544aa8d",
   "metadata": {},
   "source": [
    "# Modules"
   ]
  },
  {
   "cell_type": "code",
   "execution_count": 1,
   "id": "2ad50eaa",
   "metadata": {},
   "outputs": [],
   "source": [
    "import pandas as  pd"
   ]
  },
  {
   "attachments": {},
   "cell_type": "markdown",
   "id": "d82c5633",
   "metadata": {},
   "source": [
    "# Data"
   ]
  },
  {
   "cell_type": "code",
   "execution_count": 2,
   "id": "b530e534",
   "metadata": {},
   "outputs": [],
   "source": [
    "calcium_hydroxide = pd.read_csv(\"calcium_hydroxide.txt\")\n",
    "comun_ion = pd.read_csv(\"comun_ion.txt\")"
   ]
  },
  {
   "cell_type": "code",
   "execution_count": 3,
   "id": "326d0401",
   "metadata": {},
   "outputs": [
    {
     "data": {
      "text/html": [
       "<div>\n",
       "<style scoped>\n",
       "    .dataframe tbody tr th:only-of-type {\n",
       "        vertical-align: middle;\n",
       "    }\n",
       "\n",
       "    .dataframe tbody tr th {\n",
       "        vertical-align: top;\n",
       "    }\n",
       "\n",
       "    .dataframe thead th {\n",
       "        text-align: right;\n",
       "    }\n",
       "</style>\n",
       "<table border=\"1\" class=\"dataframe\">\n",
       "  <thead>\n",
       "    <tr style=\"text-align: right;\">\n",
       "      <th></th>\n",
       "      <th>Ca(OH)2(mL)</th>\n",
       "      <th>VHCl(mL)</th>\n",
       "    </tr>\n",
       "  </thead>\n",
       "  <tbody>\n",
       "    <tr>\n",
       "      <th>0</th>\n",
       "      <td>25</td>\n",
       "      <td>7.3</td>\n",
       "    </tr>\n",
       "    <tr>\n",
       "      <th>1</th>\n",
       "      <td>25</td>\n",
       "      <td>6.9</td>\n",
       "    </tr>\n",
       "  </tbody>\n",
       "</table>\n",
       "</div>"
      ],
      "text/plain": [
       "   Ca(OH)2(mL)  VHCl(mL)\n",
       "0           25       7.3\n",
       "1           25       6.9"
      ]
     },
     "execution_count": 3,
     "metadata": {},
     "output_type": "execute_result"
    }
   ],
   "source": [
    "calcium_hydroxide"
   ]
  },
  {
   "cell_type": "code",
   "execution_count": 4,
   "id": "36b5f9d5",
   "metadata": {},
   "outputs": [
    {
     "data": {
      "text/html": [
       "<div>\n",
       "<style scoped>\n",
       "    .dataframe tbody tr th:only-of-type {\n",
       "        vertical-align: middle;\n",
       "    }\n",
       "\n",
       "    .dataframe tbody tr th {\n",
       "        vertical-align: top;\n",
       "    }\n",
       "\n",
       "    .dataframe thead th {\n",
       "        text-align: right;\n",
       "    }\n",
       "</style>\n",
       "<table border=\"1\" class=\"dataframe\">\n",
       "  <thead>\n",
       "    <tr style=\"text-align: right;\">\n",
       "      <th></th>\n",
       "      <th>Ca(OH)2(mL)</th>\n",
       "      <th>VCaCl2(mL)</th>\n",
       "      <th>VHCl(mL)</th>\n",
       "    </tr>\n",
       "  </thead>\n",
       "  <tbody>\n",
       "    <tr>\n",
       "      <th>0</th>\n",
       "      <td>25</td>\n",
       "      <td>5</td>\n",
       "      <td>7.0</td>\n",
       "    </tr>\n",
       "    <tr>\n",
       "      <th>1</th>\n",
       "      <td>25</td>\n",
       "      <td>5</td>\n",
       "      <td>6.8</td>\n",
       "    </tr>\n",
       "  </tbody>\n",
       "</table>\n",
       "</div>"
      ],
      "text/plain": [
       "   Ca(OH)2(mL)  VCaCl2(mL)  VHCl(mL)\n",
       "0           25           5       7.0\n",
       "1           25           5       6.8"
      ]
     },
     "execution_count": 4,
     "metadata": {},
     "output_type": "execute_result"
    }
   ],
   "source": [
    "comun_ion"
   ]
  },
  {
   "attachments": {},
   "cell_type": "markdown",
   "id": "96b692d9",
   "metadata": {},
   "source": [
    "# Valoration $Ca(OH)_2$"
   ]
  },
  {
   "cell_type": "code",
   "execution_count": 5,
   "id": "cde5c08a",
   "metadata": {},
   "outputs": [
    {
     "data": {
      "text/plain": [
       "'The concetration of the calcium-hydroxide is 0.01M'"
      ]
     },
     "execution_count": 5,
     "metadata": {},
     "output_type": "execute_result"
    }
   ],
   "source": [
    "mols_calcium_hydroxide = calcium_hydroxide[\"VHCl(mL)\"]*1e-3*0.1*(1/2)\n",
    "M_calcium_hydroxide = mols_calcium_hydroxide/(calcium_hydroxide[\"Ca(OH)2(mL)\"]*1e-3)\n",
    "mean_M_calcium_hydroxide = round( M_calcium_hydroxide.mean() , 2 )\n",
    "\"The concetration of the calcium-hydroxide is \"+ str(mean_M_calcium_hydroxide) + \"M\""
   ]
  },
  {
   "attachments": {},
   "cell_type": "markdown",
   "id": "c73db00b",
   "metadata": {},
   "source": [
    "# $K_{ps}$ $Ca(OH)_2$\n",
    "\n",
    "$(Ca(OH)_2)_{aq} \\rightarrow Ca^{2+}_{aq} + 2OH^-_{aq}$\n",
    "\n",
    "$K_{ps} = [ Ca^{2+} ][ OH^-  ]^2  = \\frac{ [ OH^-  ] }{2} [ OH^-  ]^2 = \\frac{ [ OH^-  ]^3 }{2}$\n",
    "\n",
    "$[ Ca^{2+} ]=\\frac{ [ OH^-  ] }{2}$"
   ]
  },
  {
   "cell_type": "code",
   "execution_count": 6,
   "id": "51f5a73e",
   "metadata": {},
   "outputs": [
    {
     "data": {
      "text/plain": [
       "'The Kps of the calcium hydroxide is 4e-06'"
      ]
     },
     "execution_count": 6,
     "metadata": {},
     "output_type": "execute_result"
    }
   ],
   "source": [
    "M_OH = 2*mean_M_calcium_hydroxide\n",
    "Kps = round( ( M_OH**3 )/2 , 6 )\n",
    "\"The Kps of the calcium hydroxide is \" + str(Kps)"
   ]
  }
 ],
 "metadata": {
  "kernelspec": {
   "display_name": "Python 3",
   "language": "python",
   "name": "python3"
  },
  "language_info": {
   "codemirror_mode": {
    "name": "ipython",
    "version": 3
   },
   "file_extension": ".py",
   "mimetype": "text/x-python",
   "name": "python",
   "nbconvert_exporter": "python",
   "pygments_lexer": "ipython3",
   "version": "3.11.2"
  }
 },
 "nbformat": 4,
 "nbformat_minor": 5
}

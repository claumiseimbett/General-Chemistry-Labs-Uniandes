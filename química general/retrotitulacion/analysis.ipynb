{
 "cells": [
  {
   "attachments": {},
   "cell_type": "markdown",
   "id": "7c8946a7",
   "metadata": {},
   "source": [
    "# Modules"
   ]
  },
  {
   "cell_type": "code",
   "execution_count": 6,
   "id": "29ba0d08",
   "metadata": {},
   "outputs": [],
   "source": [
    "import pandas as pd"
   ]
  },
  {
   "attachments": {},
   "cell_type": "markdown",
   "id": "5eee2076",
   "metadata": {},
   "source": [
    "# Data"
   ]
  },
  {
   "cell_type": "code",
   "execution_count": 7,
   "id": "09272e6a",
   "metadata": {},
   "outputs": [
    {
     "data": {
      "text/html": [
       "<div>\n",
       "<style scoped>\n",
       "    .dataframe tbody tr th:only-of-type {\n",
       "        vertical-align: middle;\n",
       "    }\n",
       "\n",
       "    .dataframe tbody tr th {\n",
       "        vertical-align: top;\n",
       "    }\n",
       "\n",
       "    .dataframe thead th {\n",
       "        text-align: right;\n",
       "    }\n",
       "</style>\n",
       "<table border=\"1\" class=\"dataframe\">\n",
       "  <thead>\n",
       "    <tr style=\"text-align: right;\">\n",
       "      <th></th>\n",
       "      <th>m(g)</th>\n",
       "      <th>VHCl(mL)</th>\n",
       "      <th>VNaOH(mL)</th>\n",
       "    </tr>\n",
       "  </thead>\n",
       "  <tbody>\n",
       "    <tr>\n",
       "      <th>0</th>\n",
       "      <td>0.1</td>\n",
       "      <td>20</td>\n",
       "      <td>6.7</td>\n",
       "    </tr>\n",
       "    <tr>\n",
       "      <th>1</th>\n",
       "      <td>0.1</td>\n",
       "      <td>20</td>\n",
       "      <td>7.2</td>\n",
       "    </tr>\n",
       "  </tbody>\n",
       "</table>\n",
       "</div>"
      ],
      "text/plain": [
       "   m(g)  VHCl(mL)  VNaOH(mL)\n",
       "0   0.1        20        6.7\n",
       "1   0.1        20        7.2"
      ]
     },
     "execution_count": 7,
     "metadata": {},
     "output_type": "execute_result"
    }
   ],
   "source": [
    "data = pd.read_csv(\"data.txt\")\n",
    "data"
   ]
  },
  {
   "attachments": {},
   "cell_type": "markdown",
   "id": "07ea5591",
   "metadata": {},
   "source": [
    "# Retrotitulation\n",
    "\n",
    "$CaCO_3+2HCl \\rightarrow CaCl_2 + H_2O + CO_2$\n",
    "\n",
    "$HCl + NaOH \\rightarrow NaCl + H_2O$"
   ]
  },
  {
   "cell_type": "code",
   "execution_count": 17,
   "id": "3c3f5242",
   "metadata": {},
   "outputs": [
    {
     "data": {
      "text/plain": [
       "'mass CaCO3 = (0.065 +- 0.002) g, % concentration = (65 +- 2)%'"
      ]
     },
     "execution_count": 17,
     "metadata": {},
     "output_type": "execute_result"
    }
   ],
   "source": [
    "total_mols_HCl = (data[\"VHCl(mL)\"]*0.1)/1000\n",
    "excess_mols_HCl = (data[\"VNaOH(mL)\"]*0.1)/1000\n",
    "reactants_mols_HCl = total_mols_HCl - excess_mols_HCl\n",
    "mols_CaCO3 = reactants_mols_HCl *(1/2)\n",
    "m_CaCO3 = mols_CaCO3* 100\n",
    "mean_m_CaCO3 =  round( m_CaCO3.mean(),3)\n",
    "std_m_CaCO3 = round(m_CaCO3.std(),3)\n",
    "\n",
    "mean_concetration = round( ( mean_m_CaCO3  / 0.1 ) *100 )\n",
    "std_concetration = round(  ( std_m_CaCO3 /0.1 )  *100 )\n",
    "\n",
    "\"mass CaCO3 = (\" + str(mean_m_CaCO3)+\" +- \"+str(std_m_CaCO3)+\") g, \" + \"% concentration = (\" + str(mean_concetration) + \" +- \" + str(std_concetration) +\")%\""
   ]
  }
 ],
 "metadata": {
  "kernelspec": {
   "display_name": "Python 3",
   "language": "python",
   "name": "python3"
  },
  "language_info": {
   "codemirror_mode": {
    "name": "ipython",
    "version": 3
   },
   "file_extension": ".py",
   "mimetype": "text/x-python",
   "name": "python",
   "nbconvert_exporter": "python",
   "pygments_lexer": "ipython3",
   "version": "3.11.2"
  }
 },
 "nbformat": 4,
 "nbformat_minor": 5
}

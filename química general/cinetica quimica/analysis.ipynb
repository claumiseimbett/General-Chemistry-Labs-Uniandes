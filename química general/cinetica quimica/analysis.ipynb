{
 "cells": [
  {
   "attachments": {},
   "cell_type": "markdown",
   "id": "ac97172e",
   "metadata": {},
   "source": [
    "# Modules"
   ]
  },
  {
   "cell_type": "code",
   "execution_count": 50,
   "id": "9f7e4005",
   "metadata": {},
   "outputs": [],
   "source": [
    "import pandas as pd\n",
    "import matplotlib.pyplot as plt\n",
    "import numpy as np"
   ]
  },
  {
   "attachments": {},
   "cell_type": "markdown",
   "id": "1943ca73",
   "metadata": {},
   "source": [
    "# Data"
   ]
  },
  {
   "cell_type": "code",
   "execution_count": 51,
   "id": "f6b39b5c",
   "metadata": {},
   "outputs": [],
   "source": [
    "Tc = 273.65  # K\n",
    "Th = 292.65  # K\n",
    "T_catalysis = 292.65  # K\n",
    "data_Tc = pd.read_csv(\"reaction-Tc.txt\")\n",
    "data_Th = pd.read_csv(\"reaction-Th.txt\")"
   ]
  },
  {
   "cell_type": "code",
   "execution_count": 52,
   "id": "00b71081",
   "metadata": {},
   "outputs": [
    {
     "data": {
      "text/html": [
       "<div>\n",
       "<style scoped>\n",
       "    .dataframe tbody tr th:only-of-type {\n",
       "        vertical-align: middle;\n",
       "    }\n",
       "\n",
       "    .dataframe tbody tr th {\n",
       "        vertical-align: top;\n",
       "    }\n",
       "\n",
       "    .dataframe thead th {\n",
       "        text-align: right;\n",
       "    }\n",
       "</style>\n",
       "<table border=\"1\" class=\"dataframe\">\n",
       "  <thead>\n",
       "    <tr style=\"text-align: right;\">\n",
       "      <th></th>\n",
       "      <th>VKMnO4(L)</th>\n",
       "      <th>Vwater(L)</th>\n",
       "      <th>t(s)</th>\n",
       "    </tr>\n",
       "  </thead>\n",
       "  <tbody>\n",
       "    <tr>\n",
       "      <th>0</th>\n",
       "      <td>0.0050</td>\n",
       "      <td>0.0000</td>\n",
       "      <td>0</td>\n",
       "    </tr>\n",
       "    <tr>\n",
       "      <th>1</th>\n",
       "      <td>0.0040</td>\n",
       "      <td>0.0010</td>\n",
       "      <td>317</td>\n",
       "    </tr>\n",
       "    <tr>\n",
       "      <th>2</th>\n",
       "      <td>0.0030</td>\n",
       "      <td>0.0020</td>\n",
       "      <td>615</td>\n",
       "    </tr>\n",
       "    <tr>\n",
       "      <th>3</th>\n",
       "      <td>0.0025</td>\n",
       "      <td>0.0025</td>\n",
       "      <td>811</td>\n",
       "    </tr>\n",
       "    <tr>\n",
       "      <th>4</th>\n",
       "      <td>0.0020</td>\n",
       "      <td>0.0030</td>\n",
       "      <td>968</td>\n",
       "    </tr>\n",
       "    <tr>\n",
       "      <th>5</th>\n",
       "      <td>0.0010</td>\n",
       "      <td>0.0040</td>\n",
       "      <td>1065</td>\n",
       "    </tr>\n",
       "  </tbody>\n",
       "</table>\n",
       "</div>"
      ],
      "text/plain": [
       "   VKMnO4(L)  Vwater(L)  t(s)\n",
       "0     0.0050     0.0000     0\n",
       "1     0.0040     0.0010   317\n",
       "2     0.0030     0.0020   615\n",
       "3     0.0025     0.0025   811\n",
       "4     0.0020     0.0030   968\n",
       "5     0.0010     0.0040  1065"
      ]
     },
     "execution_count": 52,
     "metadata": {},
     "output_type": "execute_result"
    }
   ],
   "source": [
    "data_Tc"
   ]
  },
  {
   "cell_type": "code",
   "execution_count": 53,
   "id": "4b3877fd",
   "metadata": {},
   "outputs": [
    {
     "data": {
      "text/html": [
       "<div>\n",
       "<style scoped>\n",
       "    .dataframe tbody tr th:only-of-type {\n",
       "        vertical-align: middle;\n",
       "    }\n",
       "\n",
       "    .dataframe tbody tr th {\n",
       "        vertical-align: top;\n",
       "    }\n",
       "\n",
       "    .dataframe thead th {\n",
       "        text-align: right;\n",
       "    }\n",
       "</style>\n",
       "<table border=\"1\" class=\"dataframe\">\n",
       "  <thead>\n",
       "    <tr style=\"text-align: right;\">\n",
       "      <th></th>\n",
       "      <th>VKMnO4(L)</th>\n",
       "      <th>Vwater(L)</th>\n",
       "      <th>t(s)</th>\n",
       "    </tr>\n",
       "  </thead>\n",
       "  <tbody>\n",
       "    <tr>\n",
       "      <th>0</th>\n",
       "      <td>0.0050</td>\n",
       "      <td>0.0000</td>\n",
       "      <td>0</td>\n",
       "    </tr>\n",
       "    <tr>\n",
       "      <th>1</th>\n",
       "      <td>0.0040</td>\n",
       "      <td>0.0010</td>\n",
       "      <td>21</td>\n",
       "    </tr>\n",
       "    <tr>\n",
       "      <th>2</th>\n",
       "      <td>0.0030</td>\n",
       "      <td>0.0020</td>\n",
       "      <td>51</td>\n",
       "    </tr>\n",
       "    <tr>\n",
       "      <th>3</th>\n",
       "      <td>0.0025</td>\n",
       "      <td>0.0025</td>\n",
       "      <td>69</td>\n",
       "    </tr>\n",
       "    <tr>\n",
       "      <th>4</th>\n",
       "      <td>0.0020</td>\n",
       "      <td>0.0030</td>\n",
       "      <td>92</td>\n",
       "    </tr>\n",
       "    <tr>\n",
       "      <th>5</th>\n",
       "      <td>0.0010</td>\n",
       "      <td>0.0040</td>\n",
       "      <td>114</td>\n",
       "    </tr>\n",
       "  </tbody>\n",
       "</table>\n",
       "</div>"
      ],
      "text/plain": [
       "   VKMnO4(L)  Vwater(L)  t(s)\n",
       "0     0.0050     0.0000     0\n",
       "1     0.0040     0.0010    21\n",
       "2     0.0030     0.0020    51\n",
       "3     0.0025     0.0025    69\n",
       "4     0.0020     0.0030    92\n",
       "5     0.0010     0.0040   114"
      ]
     },
     "execution_count": 53,
     "metadata": {},
     "output_type": "execute_result"
    }
   ],
   "source": [
    "data_Th"
   ]
  },
  {
   "attachments": {},
   "cell_type": "markdown",
   "id": "7896ba9c",
   "metadata": {},
   "source": [
    "# Rate constants"
   ]
  },
  {
   "attachments": {},
   "cell_type": "markdown",
   "id": "8568c574",
   "metadata": {},
   "source": [
    "## $Tc$"
   ]
  },
  {
   "cell_type": "code",
   "execution_count": 54,
   "id": "ef60c105",
   "metadata": {},
   "outputs": [
    {
     "data": {
      "image/png": "[encoded data removed]",
      "text/plain": [
       "<Figure size 640x480 with 1 Axes>"
      ]
     },
     "metadata": {},
     "output_type": "display_data"
    }
   ],
   "source": [
    "concetration_Tc = (data_Tc[\"VKMnO4(L)\"] * 0.01)/ (data_Tc[\"VKMnO4(L)\"] + data_Tc[\"Vwater(L)\"])\n",
    "\n",
    "fig,ax = plt.subplots()\n",
    "ax.scatter( data_Tc[\"t(s)\"] , np.log( concetration_Tc ) , label = \"experimental data\" )\n",
    "ax.set_xlabel(\"t(s)\")\n",
    "ax.set_ylabel(\"$log[KMnO_4]$\")\n",
    "ax.set_title(\"kinetics without catalyst T = \"+str(Tc)+\" K\")\n",
    "\n",
    "coeff , cov = np.polyfit( data_Tc[\"t(s)\"] , np.log( concetration_Tc )  , 1,cov=True)\n",
    "fit = np.poly1d(coeff)\n",
    "\n",
    "ax.plot(  data_Tc[\"t(s)\"] , fit( data_Tc[\"t(s)\"] )  , color = \"red\"  , label = \"fit data\" )\n",
    "plt.legend()\n",
    "plt.show()"
   ]
  },
  {
   "cell_type": "code",
   "execution_count": 55,
   "id": "96734466",
   "metadata": {},
   "outputs": [
    {
     "data": {
      "text/plain": [
       "0    0.010\n",
       "1    0.008\n",
       "2    0.006\n",
       "3    0.005\n",
       "4    0.004\n",
       "5    0.002\n",
       "dtype: float64"
      ]
     },
     "execution_count": 55,
     "metadata": {},
     "output_type": "execute_result"
    }
   ],
   "source": [
    "concetration_Tc"
   ]
  },
  {
   "cell_type": "code",
   "execution_count": 56,
   "id": "c4c02764",
   "metadata": {},
   "outputs": [
    {
     "data": {
      "text/plain": [
       "'The rate constant is (0.0013 +- 0.0003) s^-1'"
      ]
     },
     "execution_count": 56,
     "metadata": {},
     "output_type": "execute_result"
    }
   ],
   "source": [
    "k_c = round( -coeff[0] , 4 )\n",
    "deltak_c = round( np.sqrt( cov[0][0] ) , 4 )\n",
    "\"The rate constant is (\" + str( k_c )+ \" +- \"+str(deltak_c) + \") s^-1\""
   ]
  },
  {
   "attachments": {},
   "cell_type": "markdown",
   "id": "f74c7975",
   "metadata": {},
   "source": [
    "## $Th$"
   ]
  },
  {
   "cell_type": "code",
   "execution_count": 57,
   "id": "078f9497",
   "metadata": {},
   "outputs": [
    {
     "data": {
      "image/png": "[encoded data removed]",
      "text/plain": [
       "<Figure size 640x480 with 1 Axes>"
      ]
     },
     "metadata": {},
     "output_type": "display_data"
    }
   ],
   "source": [
    "concetration_Th = (data_Th[\"VKMnO4(L)\"] * 0.01)/ (data_Th[\"VKMnO4(L)\"] + data_Th[\"Vwater(L)\"])\n",
    "\n",
    "fig,ax = plt.subplots()\n",
    "ax.scatter( data_Th[\"t(s)\"] , np.log( concetration_Th ) , label = \"experimental data\" )\n",
    "ax.set_xlabel(\"t(s)\")\n",
    "ax.set_ylabel(\"$log[KMnO_4]$\")\n",
    "ax.set_title(\"kinetics without catalyst T = \"+str(Th)+\" K\")\n",
    "\n",
    "coeff , cov = np.polyfit( data_Th[\"t(s)\"] , np.log( concetration_Th )  , 1,cov=True)\n",
    "fit = np.poly1d(coeff)\n",
    "\n",
    "ax.plot(  data_Th[\"t(s)\"] , fit( data_Th[\"t(s)\"] )  , color = \"red\"  , label = \"fit data\" )\n",
    "plt.legend()\n",
    "plt.show()"
   ]
  },
  {
   "cell_type": "code",
   "execution_count": 58,
   "id": "48adbd0c",
   "metadata": {},
   "outputs": [
    {
     "data": {
      "text/plain": [
       "'The rate constant is (0.013 +- 0.002) s^-1'"
      ]
     },
     "execution_count": 58,
     "metadata": {},
     "output_type": "execute_result"
    }
   ],
   "source": [
    "k_h = round( -coeff[0] , 3 )\n",
    "deltak_h = round( np.sqrt( cov[0][0] ) , 3 )\n",
    "\"The rate constant is (\" + str( k_h )+ \" +- \"+str(deltak_h) + \") s^-1\""
   ]
  },
  {
   "attachments": {},
   "cell_type": "markdown",
   "id": "ee257f21",
   "metadata": {},
   "source": [
    "# Energy activation"
   ]
  },
  {
   "cell_type": "code",
   "execution_count": 59,
   "id": "bd9e4eac",
   "metadata": {},
   "outputs": [
    {
     "data": {
      "text/plain": [
       "'The energy activation is ( 81 +- 10 ) KJ /mol '"
      ]
     },
     "execution_count": 59,
     "metadata": {},
     "output_type": "execute_result"
    }
   ],
   "source": [
    "R = 8.314*1e-3\n",
    "E = round( np.log(  k_c / k_h) * (   ( Tc*Th ) / ( Tc-Th )  ) * R )\n",
    "\n",
    "deltaE_k_c = ( deltak_c / k_c ) * (   ( Tc*Th ) / ( Tc-Th )  ) * R\n",
    "deltaE_k_h = ( deltak_h / k_h ) * (   ( Tc*Th ) / ( Tc-Th )  ) * R\n",
    "\n",
    "deltaE = round( np.sqrt( deltaE_k_h**2 + deltaE_k_c**2 ) )\n",
    "\n",
    "\"The energy activation is ( \" + str(E) + \" +- \" + str(deltaE) + \" ) KJ /mol \""
   ]
  },
  {
   "attachments": {},
   "cell_type": "markdown",
   "id": "75551264",
   "metadata": {},
   "source": [
    "# Frecuency factor\n",
    "\n",
    "It can be shown that $A = \\frac{   k_c + k_h      }{ e^{-E/(R*Tc}    + e^{-E/(R*Th}      }$"
   ]
  },
  {
   "cell_type": "code",
   "execution_count": 60,
   "id": "6f5cea11",
   "metadata": {},
   "outputs": [
    {
     "data": {
      "text/plain": [
       "'The frecuency factor is 3.7 e^12 s^-1'"
      ]
     },
     "execution_count": 60,
     "metadata": {},
     "output_type": "execute_result"
    }
   ],
   "source": [
    "A = round( ( (  k_c  + k_h ) / (  np.exp( -E/(R*Tc)  ) + np.exp( -E/(R*Th)  )    ) )*1e-12 ,1)\n",
    "\n",
    "\"The frecuency factor is \" + str(A) + \" e^12 s^-1\""
   ]
  },
  {
   "attachments": {},
   "cell_type": "markdown",
   "id": "78843c64",
   "metadata": {},
   "source": [
    "# half life 20°C"
   ]
  },
  {
   "cell_type": "code",
   "execution_count": 61,
   "id": "dbb58f92",
   "metadata": {},
   "outputs": [
    {
     "data": {
      "text/plain": [
       "'The half life of the reaction in 20°C is 53 s'"
      ]
     },
     "execution_count": 61,
     "metadata": {},
     "output_type": "execute_result"
    }
   ],
   "source": [
    "half_life = round( -np.log(1/2) / k_h )\n",
    "\"The half life of the reaction in 20°C is \" + str(half_life) + \" s\""
   ]
  },
  {
   "attachments": {},
   "cell_type": "markdown",
   "id": "00b9e79e",
   "metadata": {},
   "source": [
    "# Note\n",
    "\n",
    "If we have a initial concetration of $A_0$ and we need to arrive to concetration of $B$, the time used is\n",
    "\n",
    "$t = \\frac{ lnA_0  }{  k } - \\frac{ lnB }{  k }$\n",
    "\n",
    "From the above we conclude that if the initial concentration is increased, there is a longer time to reach a fixed final concentration.\n",
    "Since it is not feasible to measure the concentration for different instants of time, we use a different method given by the following equation:\n",
    "\n",
    "$t_i = t^+ - t'_i$\n",
    "\n",
    "Where $t_i$ is the time when te concetration is $C_i$, $t'_i$ is time for complete the reaction when the concetration is $C_i$ and $t^+$ is the time for complete the reaction when the concetration is $max\\{C_i\\}_i$\n",
    "\n",
    "Using the above we have concentration vs. time data for a reaction with initial concentration $max\\{C_i\\}_i$"
   ]
  }
 ],
 "metadata": {
  "kernelspec": {
   "display_name": "Python 3",
   "language": "python",
   "name": "python3"
  },
  "language_info": {
   "codemirror_mode": {
    "name": "ipython",
    "version": 3
   },
   "file_extension": ".py",
   "mimetype": "text/x-python",
   "name": "python",
   "nbconvert_exporter": "python",
   "pygments_lexer": "ipython3",
   "version": "3.11.2"
  }
 },
 "nbformat": 4,
 "nbformat_minor": 5
}
